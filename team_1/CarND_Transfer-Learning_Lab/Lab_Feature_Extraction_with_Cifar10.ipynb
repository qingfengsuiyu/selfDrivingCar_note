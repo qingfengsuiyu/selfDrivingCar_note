{
 "cells": [
  {
   "cell_type": "code",
   "execution_count": 0,
   "metadata": {
    "colab": {
     "autoexec": {
      "startup": false,
      "wait_interval": 0
     }
    },
    "colab_type": "code",
    "collapsed": true,
    "id": "hKmiL1gwnmfx"
   },
   "outputs": [],
   "source": [
    "import sys\n",
    "sys.path\n",
    "sys.path.append('/content/CarND-Transfer-Learning-Lab/')\n",
    "sys.path.append('/content/')"
   ]
  },
  {
   "cell_type": "code",
   "execution_count": 18,
   "metadata": {
    "colab": {
     "autoexec": {
      "startup": false,
      "wait_interval": 0
     },
     "base_uri": "https://localhost:8080/",
     "height": 69,
     "output_extras": [
      {
       "item_id": 1
      },
      {
       "item_id": 9
      }
     ]
    },
    "colab_type": "code",
    "executionInfo": {
     "elapsed": 15422,
     "status": "ok",
     "timestamp": 1521720763965,
     "user": {
      "displayName": "郝晓翼",
      "photoUrl": "//lh4.googleusercontent.com/-fyL4ZV1Be6g/AAAAAAAAAAI/AAAAAAAAAEw/TPv5-MRrZqA/s50-c-k-no/photo.jpg",
      "userId": "110086297311802405920"
     },
     "user_tz": -480
    },
    "id": "o8IWQYQ2ntuZ",
    "outputId": "50a43cce-218d-4b30-d4be-6f96d1db33ba"
   },
   "outputs": [
    {
     "name": "stderr",
     "output_type": "stream",
     "text": [
      "Using TensorFlow backend.\n"
     ]
    },
    {
     "name": "stdout",
     "output_type": "stream",
     "text": [
      "Downloading data from https://www.cs.toronto.edu/~kriz/cifar-10-python.tar.gz\n",
      "170500096/170498071 [==============================] - 7s 0us/step\n"
     ]
    }
   ],
   "source": [
    "from keras.datasets import cifar10\n",
    "(X_train, y_train), (X_test, y_test) = cifar10.load_data()\n",
    "# y_train.shape is 2d, (50000, 1). While Keras is smart enough to handle this\n",
    "# it's a good idea to flatten the array.\n",
    "y_train = y_train.reshape(-1)\n",
    "y_test = y_test.reshape(-1)"
   ]
  },
  {
   "cell_type": "code",
   "execution_count": 0,
   "metadata": {
    "colab": {
     "autoexec": {
      "startup": false,
      "wait_interval": 0
     }
    },
    "colab_type": "code",
    "collapsed": true,
    "id": "tScf1GemqEQr"
   },
   "outputs": [],
   "source": [
    "import pickle\n",
    "import tensorflow as tf\n",
    "import numpy as np\n",
    "from keras.layers import Input, Flatten, Dense\n",
    "from keras.models import Model\n",
    "\n",
    "# flags = tf.app.flags\n",
    "# FLAGS = flags.FLAGS\n",
    "\n",
    "\n",
    "# # command line flags\n",
    "# flags.DEFINE_string('training_file', '', \"vgg_cifar10_100_bottleneck_features_train.p\")\n",
    "# flags.DEFINE_string('validation_file', '', \"vgg_cifar10_bottleneck_features_validation.p\")\n",
    "# flags.DEFINE_integer('epochs', 50, \"The number of epochs.\")\n",
    "# flags.DEFINE_integer('batch_size', 256, \"The batch size.\")\n",
    "\n",
    "training_file = \"vgg_cifar10_100_bottleneck_features_train.p\"\n",
    "validation_file = \"vgg_cifar10_bottleneck_features_validation.p\"\n",
    "epochs = 50\n",
    "batch_size = 256"
   ]
  },
  {
   "cell_type": "code",
   "execution_count": 0,
   "metadata": {
    "colab": {
     "autoexec": {
      "startup": false,
      "wait_interval": 0
     }
    },
    "colab_type": "code",
    "collapsed": true,
    "id": "Cq-5Cb-5oKID"
   },
   "outputs": [],
   "source": [
    "\n",
    "def load_bottleneck_data(training_file, validation_file):\n",
    "    \"\"\"\n",
    "    Utility function to load bottleneck features.\n",
    "\n",
    "    Arguments:\n",
    "        training_file - String\n",
    "        validation_file - String\n",
    "    \"\"\"\n",
    "    print(\"Training file\", training_file)\n",
    "    print(\"Validation file\", validation_file)\n",
    "\n",
    "    with open(training_file, 'rb') as f:\n",
    "        train_data = pickle.load(f)\n",
    "    with open(validation_file, 'rb') as f:\n",
    "        validation_data = pickle.load(f)\n",
    "\n",
    "    X_train = train_data['features']\n",
    "    y_train = train_data['labels']\n",
    "    X_val = validation_data['features']\n",
    "    y_val = validation_data['labels']\n",
    "\n",
    "    return X_train, y_train, X_val, y_val\n",
    "\n",
    "\n",
    "def main(_):\n",
    "    # load bottleneck data\n",
    "    X_train, y_train, X_val, y_val = load_bottleneck_data(training_file, validation_file)\n",
    "\n",
    "    print(X_train.shape, y_train.shape)\n",
    "    print(X_val.shape, y_val.shape)\n",
    "\n",
    "    nb_classes = len(np.unique(y_train))\n",
    "\n",
    "    # define model\n",
    "    input_shape = X_train.shape[1:]\n",
    "    inp = Input(shape=input_shape)\n",
    "    x = Flatten()(inp)\n",
    "    x = Dense(nb_classes, activation='softmax')(x)\n",
    "    model = Model(inp, x)\n",
    "    model.compile(optimizer='adam', loss='sparse_categorical_crossentropy', metrics=['accuracy'])\n",
    "\n",
    "    # train model\n",
    "    model.fit(X_train, y_train, batch_size, epochs, validation_data=(X_val, y_val), shuffle=True)\n",
    "\n"
   ]
  },
  {
   "cell_type": "code",
   "execution_count": 43,
   "metadata": {
    "colab": {
     "autoexec": {
      "startup": false,
      "wait_interval": 0
     },
     "base_uri": "https://localhost:8080/",
     "height": 1957,
     "output_extras": [
      {
       "item_id": 1
      },
      {
       "item_id": 4
      },
      {
       "item_id": 5
      },
      {
       "item_id": 6
      },
      {
       "item_id": 7
      }
     ]
    },
    "colab_type": "code",
    "executionInfo": {
     "elapsed": 8142,
     "status": "error",
     "timestamp": 1521721630127,
     "user": {
      "displayName": "郝晓翼",
      "photoUrl": "//lh4.googleusercontent.com/-fyL4ZV1Be6g/AAAAAAAAAAI/AAAAAAAAAEw/TPv5-MRrZqA/s50-c-k-no/photo.jpg",
      "userId": "110086297311802405920"
     },
     "user_tz": -480
    },
    "id": "wYASZWadoQjC",
    "outputId": "1ffd82e5-b8aa-4ed1-9eaa-cee51b61189c"
   },
   "outputs": [
    {
     "name": "stdout",
     "output_type": "stream",
     "text": [
      "Training file vgg_cifar10_100_bottleneck_features_train.p\n",
      "Validation file vgg_cifar10_bottleneck_features_validation.p\n",
      "(1000, 1, 1, 512) (1000, 1)\n",
      "(10000, 1, 1, 512) (10000, 1)\n",
      "Train on 1000 samples, validate on 10000 samples\n",
      "Epoch 1/50\n",
      "1000/1000 [==============================] - 0s 145us/step - loss: 4.8261 - acc: 0.1160 - val_loss: 3.9093 - val_acc: 0.1389\n",
      "Epoch 2/50\n",
      "1000/1000 [==============================] - 0s 64us/step - loss: 3.6743 - acc: 0.1710 - val_loss: 3.2802 - val_acc: 0.1851\n",
      "Epoch 3/50\n",
      "1000/1000 [==============================] - 0s 60us/step - loss: 3.0543 - acc: 0.2320 - val_loss: 2.7581 - val_acc: 0.2489\n",
      "Epoch 4/50\n",
      "1000/1000 [==============================] - 0s 65us/step - loss: 2.5696 - acc: 0.2930 - val_loss: 2.5064 - val_acc: 0.2940\n",
      "Epoch 5/50\n",
      "1000/1000 [==============================] - 0s 69us/step - loss: 2.2904 - acc: 0.3420 - val_loss: 2.2377 - val_acc: 0.3454\n",
      "Epoch 6/50\n",
      "1000/1000 [==============================] - 0s 60us/step - loss: 1.9877 - acc: 0.4080 - val_loss: 1.9706 - val_acc: 0.3963\n",
      "Epoch 7/50\n",
      "1000/1000 [==============================] - 0s 62us/step - loss: 1.7487 - acc: 0.4460 - val_loss: 1.8037 - val_acc: 0.4337\n",
      "Epoch 8/50\n",
      "1000/1000 [==============================] - 0s 58us/step - loss: 1.5820 - acc: 0.4860 - val_loss: 1.6807 - val_acc: 0.4634\n",
      "Epoch 9/50\n",
      "1000/1000 [==============================] - 0s 64us/step - loss: 1.4373 - acc: 0.5380 - val_loss: 1.5705 - val_acc: 0.4960\n",
      "Epoch 10/50\n",
      "1000/1000 [==============================] - 0s 61us/step - loss: 1.3074 - acc: 0.5720 - val_loss: 1.4826 - val_acc: 0.5278\n",
      "Epoch 11/50\n",
      "1000/1000 [==============================] - 0s 69us/step - loss: 1.1967 - acc: 0.5960 - val_loss: 1.4160 - val_acc: 0.5504\n",
      "Epoch 12/50\n",
      "1000/1000 [==============================] - 0s 59us/step - loss: 1.1109 - acc: 0.6170 - val_loss: 1.3592 - val_acc: 0.5677\n",
      "Epoch 13/50\n",
      "1000/1000 [==============================] - 0s 64us/step - loss: 1.0352 - acc: 0.6390 - val_loss: 1.3084 - val_acc: 0.5838\n",
      "Epoch 14/50\n",
      "1000/1000 [==============================] - 0s 69us/step - loss: 0.9667 - acc: 0.6770 - val_loss: 1.2644 - val_acc: 0.5968\n",
      "Epoch 15/50\n",
      "1000/1000 [==============================] - 0s 64us/step - loss: 0.9081 - acc: 0.6950 - val_loss: 1.2275 - val_acc: 0.6066\n",
      "Epoch 16/50\n",
      "1000/1000 [==============================] - 0s 61us/step - loss: 0.8541 - acc: 0.7200 - val_loss: 1.1949 - val_acc: 0.6181\n",
      "Epoch 17/50\n",
      "1000/1000 [==============================] - 0s 70us/step - loss: 0.8062 - acc: 0.7400 - val_loss: 1.1665 - val_acc: 0.6261\n",
      "Epoch 18/50\n",
      "1000/1000 [==============================] - 0s 64us/step - loss: 0.7633 - acc: 0.7480 - val_loss: 1.1426 - val_acc: 0.6346\n",
      "Epoch 19/50\n",
      "1000/1000 [==============================] - 0s 67us/step - loss: 0.7255 - acc: 0.7600 - val_loss: 1.1208 - val_acc: 0.6409\n",
      "Epoch 20/50\n",
      "1000/1000 [==============================] - 0s 63us/step - loss: 0.6893 - acc: 0.7770 - val_loss: 1.1011 - val_acc: 0.6476\n",
      "Epoch 21/50\n",
      "1000/1000 [==============================] - 0s 62us/step - loss: 0.6579 - acc: 0.7840 - val_loss: 1.0834 - val_acc: 0.6526\n",
      "Epoch 22/50\n",
      "1000/1000 [==============================] - 0s 64us/step - loss: 0.6271 - acc: 0.7930 - val_loss: 1.0668 - val_acc: 0.6550\n",
      "Epoch 23/50\n",
      "1000/1000 [==============================] - 0s 67us/step - loss: 0.6002 - acc: 0.7980 - val_loss: 1.0516 - val_acc: 0.6587\n",
      "Epoch 24/50\n",
      "1000/1000 [==============================] - 0s 56us/step - loss: 0.5738 - acc: 0.8050 - val_loss: 1.0393 - val_acc: 0.6637\n",
      "Epoch 25/50\n",
      "1000/1000 [==============================] - 0s 71us/step - loss: 0.5493 - acc: 0.8190 - val_loss: 1.0281 - val_acc: 0.6683\n",
      "Epoch 26/50\n",
      "1000/1000 [==============================] - 0s 70us/step - loss: 0.5271 - acc: 0.8350 - val_loss: 1.0155 - val_acc: 0.6717\n",
      "Epoch 27/50\n",
      "1000/1000 [==============================] - 0s 83us/step - loss: 0.5062 - acc: 0.8450 - val_loss: 1.0028 - val_acc: 0.6737\n",
      "Epoch 28/50\n",
      "1000/1000 [==============================] - 0s 78us/step - loss: 0.4857 - acc: 0.8510 - val_loss: 0.9936 - val_acc: 0.6782\n",
      "Epoch 29/50\n",
      "1000/1000 [==============================] - 0s 83us/step - loss: 0.4667 - acc: 0.8580 - val_loss: 0.9862 - val_acc: 0.6810\n",
      "Epoch 30/50\n",
      "1000/1000 [==============================] - 0s 73us/step - loss: 0.4498 - acc: 0.8690 - val_loss: 0.9778 - val_acc: 0.6832\n",
      "Epoch 31/50\n",
      "1000/1000 [==============================] - 0s 74us/step - loss: 0.4331 - acc: 0.8750 - val_loss: 0.9701 - val_acc: 0.6854\n",
      "Epoch 32/50\n",
      "1000/1000 [==============================] - 0s 74us/step - loss: 0.4177 - acc: 0.8740 - val_loss: 0.9619 - val_acc: 0.6877\n",
      "Epoch 33/50\n",
      "1000/1000 [==============================] - 0s 78us/step - loss: 0.4031 - acc: 0.8810 - val_loss: 0.9554 - val_acc: 0.6890\n",
      "Epoch 34/50\n",
      "1000/1000 [==============================] - 0s 70us/step - loss: 0.3890 - acc: 0.8860 - val_loss: 0.9495 - val_acc: 0.6914\n",
      "Epoch 35/50\n",
      "1000/1000 [==============================] - 0s 72us/step - loss: 0.3769 - acc: 0.8980 - val_loss: 0.9435 - val_acc: 0.6929\n",
      "Epoch 36/50\n",
      "1000/1000 [==============================] - 0s 72us/step - loss: 0.3637 - acc: 0.9040 - val_loss: 0.9378 - val_acc: 0.6956\n",
      "Epoch 37/50\n",
      "1000/1000 [==============================] - 0s 67us/step - loss: 0.3522 - acc: 0.9060 - val_loss: 0.9329 - val_acc: 0.6960\n",
      "Epoch 38/50\n",
      "1000/1000 [==============================] - 0s 77us/step - loss: 0.3410 - acc: 0.9100 - val_loss: 0.9288 - val_acc: 0.6989\n",
      "Epoch 39/50\n",
      "1000/1000 [==============================] - 0s 70us/step - loss: 0.3305 - acc: 0.9160 - val_loss: 0.9241 - val_acc: 0.6990\n",
      "Epoch 40/50\n",
      "1000/1000 [==============================] - 0s 71us/step - loss: 0.3213 - acc: 0.9210 - val_loss: 0.9196 - val_acc: 0.7011\n",
      "Epoch 41/50\n",
      "1000/1000 [==============================] - 0s 74us/step - loss: 0.3109 - acc: 0.9250 - val_loss: 0.9155 - val_acc: 0.7015\n",
      "Epoch 42/50\n",
      "1000/1000 [==============================] - 0s 79us/step - loss: 0.3025 - acc: 0.9310 - val_loss: 0.9123 - val_acc: 0.7046\n",
      "Epoch 43/50\n",
      "1000/1000 [==============================] - 0s 69us/step - loss: 0.2943 - acc: 0.9310 - val_loss: 0.9081 - val_acc: 0.7064\n",
      "Epoch 44/50\n",
      "1000/1000 [==============================] - 0s 72us/step - loss: 0.2853 - acc: 0.9370 - val_loss: 0.9043 - val_acc: 0.7069\n",
      "Epoch 45/50\n",
      "1000/1000 [==============================] - 0s 74us/step - loss: 0.2775 - acc: 0.9370 - val_loss: 0.9017 - val_acc: 0.7084\n",
      "Epoch 46/50\n",
      "1000/1000 [==============================] - 0s 67us/step - loss: 0.2698 - acc: 0.9400 - val_loss: 0.8999 - val_acc: 0.7079\n",
      "Epoch 47/50\n",
      "1000/1000 [==============================] - 0s 72us/step - loss: 0.2627 - acc: 0.9450 - val_loss: 0.8969 - val_acc: 0.7102\n",
      "Epoch 48/50\n",
      " 256/1000 [======>.......................] - ETA: 0s - loss: 0.2769 - acc: 0.92581000/1000 [==============================] - 0s 71us/step - loss: 0.2574 - acc: 0.9490 - val_loss: 0.8933 - val_acc: 0.7106\n",
      "Epoch 49/50\n",
      "1000/1000 [==============================] - 0s 74us/step - loss: 0.2491 - acc: 0.9490 - val_loss: 0.8906 - val_acc: 0.7129\n",
      "Epoch 50/50\n",
      "1000/1000 [==============================] - 0s 75us/step - loss: 0.2429 - acc: 0.9530 - val_loss: 0.8895 - val_acc: 0.7131\n"
     ]
    },
    {
     "ename": "SystemExit",
     "evalue": "ignored",
     "output_type": "error",
     "traceback": [
      "An exception has occurred, use %tb to see the full traceback.\n",
      "\u001b[0;31mSystemExit\u001b[0m\n"
     ]
    },
    {
     "name": "stderr",
     "output_type": "stream",
     "text": [
      "/usr/local/lib/python3.6/dist-packages/IPython/core/interactiveshell.py:2890: UserWarning: To exit: use 'exit', 'quit', or Ctrl-D.\n",
      "  warn(\"To exit: use 'exit', 'quit', or Ctrl-D.\", stacklevel=1)\n"
     ]
    }
   ],
   "source": [
    "# parses flags and calls the `main` function above\n",
    "if __name__ == '__main__':\n",
    "    tf.app.run()"
   ]
  }
 ],
 "metadata": {
  "colab": {
   "collapsed_sections": [],
   "default_view": {},
   "name": "Lab_Feature Extraction with Cifar10.ipynb",
   "provenance": [],
   "version": "0.3.2",
   "views": {}
  },
  "kernelspec": {
   "display_name": "Python 3",
   "language": "python",
   "name": "python3"
  },
  "language_info": {
   "codemirror_mode": {
    "name": "ipython",
    "version": 3
   },
   "file_extension": ".py",
   "mimetype": "text/x-python",
   "name": "python",
   "nbconvert_exporter": "python",
   "pygments_lexer": "ipython3",
   "version": "3.5.4"
  }
 },
 "nbformat": 4,
 "nbformat_minor": 1
}
