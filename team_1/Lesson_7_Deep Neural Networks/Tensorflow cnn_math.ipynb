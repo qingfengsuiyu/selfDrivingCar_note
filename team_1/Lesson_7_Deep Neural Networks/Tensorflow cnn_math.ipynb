{
 "cells": [
  {
   "cell_type": "markdown",
   "metadata": {},
   "source": [
    "## Dimensionality\n",
    "\n",
    "From what we've learned so far, how can we calculate the number of neurons of each layer in our CNN?\n",
    "\n",
    "Given:\n",
    "\n",
    "*1.our input layer has a width of W and a height of H*\n",
    "\n",
    "*2.our convolutional layer has a filter size F*\n",
    "\n",
    "*3.we have a stride of S*\n",
    "\n",
    "*4.a padding of P*\n",
    "\n",
    "*5.and the number of filters K,*\n",
    "\n",
    "*6.the following formula gives us the width of the next layer: W_out = (W−F+2P)/S+1.*\n",
    "\n",
    "*7.The output height would be H_out = (H-F+2P)/S + 1.*\n",
    "\n",
    "*8.And the output depth would be equal to the number of filters D_out = K.*\n",
    "\n",
    "*9.The output volume would be W_out * H_out * D_out.*\n",
    "\n",
    "Knowing the dimensionality of each additional layer helps us understand how large our model is and how our decisions around filter size and stride affect the size of our network."
   ]
  },
  {
   "cell_type": "markdown",
   "metadata": {},
   "source": [
    "### In summary TensorFlow uses the following equation for *'SAME'* vs *'PADDING'\n",
    "\n",
    "\n",
    "SAME Padding, the output height and width are computed as:\n",
    "\n",
    "*out_height* = ceil(float(in_height) / float(strides1))\n",
    "\n",
    "*out_width* = ceil(float(in_width) / float(strides[2]))\n",
    "\n",
    "VALID Padding, the output height and width are computed as:\n",
    "\n",
    "*out_height* = ceil(float(in_height - filter_height + 1) / float(strides1))\n",
    "\n",
    "*out_width* = ceil(float(in_width - filter_width + 1) / float(strides[2]))"
   ]
  },
  {
   "cell_type": "markdown",
   "metadata": {},
   "source": [
    "## Pooling math\n",
    "\n",
    "*new_height = (input_height - filter_height)/S + 1*\n",
    "\n",
    "*new_width = (input_width - filter_width)/S + 1*"
   ]
  },
  {
   "cell_type": "code",
   "execution_count": null,
   "metadata": {
    "collapsed": true
   },
   "outputs": [],
   "source": []
  }
 ],
 "metadata": {
  "kernelspec": {
   "display_name": "Python 3",
   "language": "python",
   "name": "python3"
  },
  "language_info": {
   "codemirror_mode": {
    "name": "ipython",
    "version": 3
   },
   "file_extension": ".py",
   "mimetype": "text/x-python",
   "name": "python",
   "nbconvert_exporter": "python",
   "pygments_lexer": "ipython3",
   "version": "3.5.4"
  }
 },
 "nbformat": 4,
 "nbformat_minor": 2
}
