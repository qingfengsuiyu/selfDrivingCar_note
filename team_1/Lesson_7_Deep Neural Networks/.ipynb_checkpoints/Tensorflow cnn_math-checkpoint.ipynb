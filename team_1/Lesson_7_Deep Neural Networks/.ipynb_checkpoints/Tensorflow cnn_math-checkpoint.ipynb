{
 "cells": [
  {
   "cell_type": "markdown",
   "metadata": {},
   "source": [
    "## Dimensionality\n",
    "\n",
    "From what we've learned so far, how can we calculate the number of neurons of each layer in our CNN?\n",
    "\n",
    "Given:\n",
    "\n",
    "* our input layer has a width of W and a height of H*\n",
    "\n",
    "\n",
    "* our convolutional layer has a filter size F*\n",
    "\n",
    "\n",
    "* we have a stride of S*\n",
    "\n",
    "\n",
    "* a padding of P* and the number of filters K*\n",
    "\n",
    "\n",
    "*  the following formula gives us the width of the next layer: W_out = (W−F+2P)/S+1.*\n",
    "\n",
    "\n",
    "*  The output height would be H_out = (H-F+2P)/S + 1.*\n",
    "\n",
    "\n",
    "*  And the output depth would be equal to the number of filters D_out = K.*\n",
    "\n",
    "\n",
    "*  The output volume would be W_out * H_out * D_out.*\n",
    "\n",
    "Knowing the dimensionality of each additional layer helps us understand how large our model is and how our decisions around filter size and stride affect the size of our network."
   ]
  },
  {
   "cell_type": "markdown",
   "metadata": {},
   "source": [
    "### In summary TensorFlow uses the following equation for *'SAME'* vs *'PADDING'\n",
    "\n",
    "\n",
    "* SAME Padding, the output height and width are computed as:\n",
    "\n",
    "\n",
    "* out_height* = ceil(float(in_height) / float(strides1))\n",
    "\n",
    "\n",
    "* out_width* = ceil(float(in_width) / float(strides[2]))\n",
    "\n",
    "\n",
    "* VALID Padding, the output height and width are computed as:\n",
    "\n",
    "\n",
    "* out_height* = ceil(float(in_height - filter_height + 1) / float(strides1))\n",
    "\n",
    "\n",
    "* out_width* = ceil(float(in_width - filter_width + 1) / float(strides[2]))"
   ]
  },
  {
   "cell_type": "markdown",
   "metadata": {},
   "source": [
    "## Pooling math\n",
    "\n",
    "* new_height = (input_height - filter_height)/S + 1*\n",
    "\n",
    "\n",
    "* new_width = (input_width - filter_width)/S + 1*"
   ]
  },
  {
   "cell_type": "markdown",
   "metadata": {},
   "source": [
    "### Using Pooling Layers in TensorFlow"
   ]
  },
  {
   "cell_type": "code",
   "execution_count": 1,
   "metadata": {
    "collapsed": true
   },
   "outputs": [],
   "source": [
    "import tensorflow as tf\n",
    "import numpy as np\n",
    "\n",
    "# tf.nn.max_pool require the input be 4D (batch_size,height,weight)\n",
    "\n",
    "\n",
    "x = np.array([\n",
    "    [0,1,0.5,10],\n",
    "    [2,2.5,1,-8],\n",
    "    [4,0,5,6],\n",
    "    [15,1,2,3]],dtype=np.float32).reshape((1,4,4,1))\n",
    "X = tf.constant(x)"
   ]
  },
  {
   "cell_type": "code",
   "execution_count": 9,
   "metadata": {
    "collapsed": true
   },
   "outputs": [],
   "source": [
    "def max_pool(inputs):\n",
    "    # TODO: Set the ksize (filter size) for each dimension (batch_size, height, width, depth)\n",
    "    ksize = [1, 2, 2, 1]\n",
    "    # TODO: Set the stride for each dimension (batch_size, height, width, depth)\n",
    "    strides = [1, 2, 2, 1]\n",
    "    # TODO: set the padding, either 'VALID' or 'SAME'.\n",
    "    padding = 'VALID'\n",
    "    return tf.nn.max_pool(inputs,ksize,strides,padding)\n",
    "\n",
    "output = max_pool(X)"
   ]
  },
  {
   "cell_type": "code",
   "execution_count": null,
   "metadata": {
    "collapsed": true
   },
   "outputs": [],
   "source": []
  }
 ],
 "metadata": {
  "kernelspec": {
   "display_name": "Python 3",
   "language": "python",
   "name": "python3"
  },
  "language_info": {
   "codemirror_mode": {
    "name": "ipython",
    "version": 3
   },
   "file_extension": ".py",
   "mimetype": "text/x-python",
   "name": "python",
   "nbconvert_exporter": "python",
   "pygments_lexer": "ipython3",
   "version": "3.5.4"
  }
 },
 "nbformat": 4,
 "nbformat_minor": 2
}
