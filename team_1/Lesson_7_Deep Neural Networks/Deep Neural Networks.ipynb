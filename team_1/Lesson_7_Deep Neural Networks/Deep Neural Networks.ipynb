{
 "cells": [
  {
   "cell_type": "code",
   "execution_count": 3,
   "metadata": {
    "collapsed": true
   },
   "outputs": [],
   "source": [
    "from tensorflow.examples.tutorials.mnist import input_data\n",
    "import tensorflow as tf"
   ]
  },
  {
   "cell_type": "code",
   "execution_count": 22,
   "metadata": {},
   "outputs": [
    {
     "name": "stdout",
     "output_type": "stream",
     "text": [
      "Extracting ./train-images-idx3-ubyte.gz\n",
      "Extracting ./train-labels-idx1-ubyte.gz\n",
      "Extracting ./t10k-images-idx3-ubyte.gz\n",
      "Extracting ./t10k-labels-idx1-ubyte.gz\n"
     ]
    }
   ],
   "source": [
    "mnist = input_data.read_data_sets(\"./\",one_hot=True,reshape=False)\n",
    "\n",
    "# Parameters \n",
    "learning_rate = 0.001\n",
    "training_epochs = 20\n",
    "batch_size = 128\n",
    "display_step = 1\n",
    "\n",
    "n_input = 784 # MNIST data input (img shape: 28*28)\n",
    "n_classes = 10 # MNIST total classes (0-9 digits)\n",
    "\n",
    "n_hidden_layer = 256 # layer number of features\n",
    "\n",
    "# Store layers weights & bias\n",
    "weights = {\n",
    "    'hidden_layer':tf.Variable(tf.random_normal([n_input,n_hidden_layer])),\n",
    "    'out':tf.Variable(tf.random_normal([n_hidden_layer,n_classes]))\n",
    "}\n",
    "\n",
    "biases = {\n",
    "    'hidden_layer':tf.Variable(tf.random_normal([n_hidden_layer])),\n",
    "    'out':tf.Variable(tf.random_normal([n_classes]))\n",
    "}"
   ]
  },
  {
   "cell_type": "markdown",
   "metadata": {},
   "source": [
    "The MNIST data is made up of 28px by 28px images with a single channel. The  **tf.reshape()**  function above reshapes the 28px by 28px matrices in x into row vectors of 784px."
   ]
  },
  {
   "cell_type": "code",
   "execution_count": 23,
   "metadata": {},
   "outputs": [],
   "source": [
    "# tf graph\n",
    "x = tf.placeholder(\"float\",[None,28,28,1])\n",
    "y = tf.placeholder(\"float\",[None,n_classes])\n",
    "\n",
    "x_flat = flat = tf.reshape(x,[-1,n_input])\n",
    "\n",
    "# Hidden layer with RELU activation\n",
    "layer_1 = tf.add(tf.matmul(x_flat,weights['hidden_layer']),biases['hidden_layer'])\n",
    "layer_1 = tf.nn.relu(layer_1)\n",
    "# Output layer with linear activation\n",
    "logits = tf.matmul(layer_1,weights['out']) + biases['out']\n",
    "\n",
    "# Define loss and optimizer\n",
    "cost = tf.reduce_mean(tf.nn.softmax_cross_entropy_with_logits(logits=logits,labels=y))\n",
    "optimizer = tf.train.GradientDescentOptimizer(learning_rate=learning_rate).minimize(cost)\n",
    "\n",
    "\n",
    "# Initializing the variables\n",
    "init = tf.global_variables_initializer()"
   ]
  },
  {
   "cell_type": "code",
   "execution_count": 24,
   "metadata": {},
   "outputs": [
    {
     "name": "stdout",
     "output_type": "stream",
     "text": [
      "Epoch: 0001 cost= 20.795297623\n",
      "Epoch: 0002 cost= 24.479377747\n",
      "Epoch: 0003 cost= 19.148061752\n",
      "Epoch: 0004 cost= 15.550739288\n",
      "Epoch: 0005 cost= 14.580999374\n",
      "Epoch: 0006 cost= 14.881621361\n",
      "Epoch: 0007 cost= 12.376754761\n",
      "Epoch: 0008 cost= 7.602464676\n",
      "Epoch: 0009 cost= 8.892850876\n",
      "Epoch: 0010 cost= 14.252300262\n",
      "Epoch: 0011 cost= 10.386456490\n",
      "Epoch: 0012 cost= 7.961483002\n",
      "Epoch: 0013 cost= 7.948286057\n",
      "Epoch: 0014 cost= 10.028524399\n",
      "Epoch: 0015 cost= 7.857834816\n",
      "Epoch: 0016 cost= 8.111515045\n",
      "Epoch: 0017 cost= 6.347012520\n",
      "Epoch: 0018 cost= 7.699287891\n",
      "Epoch: 0019 cost= 6.942431450\n",
      "Epoch: 0020 cost= 8.561033249\n",
      "Optimization Finished!\n",
      "Accuracy: 0.785156\n"
     ]
    }
   ],
   "source": [
    "# Launch the graph\n",
    "with tf.Session() as sess:\n",
    "    sess.run(init)\n",
    "    # Training cycle\n",
    "    for epoch in range(training_epochs):\n",
    "        total_batch = int(mnist.train.num_examples/batch_size)\n",
    "        # Loop over all batches\n",
    "        for i in range(total_batch):\n",
    "            batch_x,batch_y = mnist.train.next_batch(batch_size)\n",
    "            # Run optimization op (backprop) and cost op (to get loss value)\n",
    "            sess.run(optimizer,feed_dict={x:batch_x,y:batch_y})\n",
    "        # Display logs per epoch step\n",
    "        if epoch % display_step == 0:\n",
    "            c = sess.run(cost,feed_dict={x:batch_x,y:batch_y})\n",
    "            print(\"Epoch:\", '%04d' % (epoch+1), \"cost=\", \\\n",
    "                \"{:.9f}\".format(c))\n",
    "    print(\"Optimization Finished!\")\n",
    "    \n",
    "    # Test model\n",
    "    correct_prediction = tf.equal(tf.argmax(logits,1),tf.argmax(y,1))\n",
    "    # Calculate accuracy\n",
    "    accuracy = tf.reduce_mean(tf.cast(correct_prediction,\"float\"))\n",
    "    # Decrease test_size if you don't have enough memory\n",
    "    test_size = 256\n",
    "    print(\"Accuracy:\",accuracy.eval({x:mnist.test.images[:test_size],y:mnist.test.labels[:test_size]}))\n",
    "    "
   ]
  },
  {
   "cell_type": "code",
   "execution_count": null,
   "metadata": {
    "collapsed": true
   },
   "outputs": [],
   "source": []
  }
 ],
 "metadata": {
  "kernelspec": {
   "display_name": "Python 3",
   "language": "python",
   "name": "python3"
  }
 },
 "nbformat": 4,
 "nbformat_minor": 2
}
