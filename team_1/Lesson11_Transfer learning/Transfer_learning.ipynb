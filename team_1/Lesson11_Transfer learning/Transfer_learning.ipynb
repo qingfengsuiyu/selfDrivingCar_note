{
 "cells": [
  {
   "cell_type": "markdown",
   "metadata": {},
   "source": [
    "## Introduce transfer learning\n",
    "\n",
    "Transfer learning involves taking a pre-trained neural network and adapting the neural network to a new, different data set.\n",
    "\n",
    "Depending on both:\n",
    "\n",
    "the size of the new data set, and\n",
    "the similarity of the new data set to the original data set"
   ]
  },
  {
   "cell_type": "markdown",
   "metadata": {},
   "source": [
    "##  Different between large data and small data \n",
    "\n",
    "A large data set might have one million images. \n",
    "\n",
    "A small data could have two-thousand images. \n",
    "\n",
    "The dividing line between a large data set and small data set is somewhat subjective. \n",
    "\n",
    "Overfitting is a concern when using transfer learning with a small data set."
   ]
  },
  {
   "cell_type": "markdown",
   "metadata": {},
   "source": [
    "## Case 1: Small Data Set, Similar Data\n",
    "\n",
    "If the new data set is small and similar to the original training data:\n",
    "\n",
    "- slice off the end of the neural network\n",
    "\n",
    "- add a new fully connected layer that matches the number of classes in the new data set\n",
    "\n",
    "- randomize the weights of the new fully connected layer; freeze all the weights from the pre-trained network\n",
    "\n",
    "- train the network to update the weights of the new fully connected layer\n",
    "\n",
    "To avoid overfitting on the small data set, the weights of the original network will be held constant rather than re-training the weights.\n",
    "\n",
    "Since the data sets are similar, images from each data set will have similar higher level features. Therefore most or all of the pre-trained neural network layers already contain relevant information about the new data set and should be kept.\n",
    "\n",
    "\n",
    "<img src=\"../images/case1.png\",width= 900,height = 800>"
   ]
  },
  {
   "cell_type": "markdown",
   "metadata": {},
   "source": [
    "## Case 2: Small Data Set, Different Data\n",
    "\n",
    "If the new data set is small and different from the original training data:\n",
    "\n",
    "- slice off most of the pre-trained layers near the beginning of the network\n",
    "\n",
    "- add to the remaining pre-trained layers a new fully connected layer that matches the number of classes in the new data set\n",
    "- randomize the weights of the new fully connected layer; freeze all the weights from the pre-trained network\n",
    "\n",
    "- train the network to update the weights of the new fully connected layer\n",
    "\n",
    "Because the data set is small, overfitting is still a concern. To combat overfitting, the weights of the original neural network will be held constant, like in the first case.\n",
    "\n",
    "But the original training set and the new data set do not share higher level features. In this case, the new network will only use the layers containing lower level features.\n",
    "\n",
    "Here is how to visualize this approach:\n",
    "\n",
    "<img src=\"../images/case2.png\",width= 900,height = 800>"
   ]
  },
  {
   "cell_type": "markdown",
   "metadata": {},
   "source": [
    "## Case 3: Large Data Set, Similar Data\n",
    "\n",
    "If the new data set is large and similar to the original training data:\n",
    "\n",
    "- remove the last fully connected layer and replace with a layer matching the number of classes in the new data set\n",
    "\n",
    "- randomly initialize the weights in the new fully connected layer\n",
    "\n",
    "- initialize the rest of the weights using the pre-trained weights\n",
    "\n",
    "- re-train the entire neural network\n",
    "\n",
    "Overfitting is not as much of a concern when training on a large data set; therefore, you can re-train all of the weights.\n",
    "\n",
    "Because the original training set and the new data set share higher level features, the entire neural network is used as well.\n",
    "\n",
    "Here is how to visualize this approach:\n",
    "\n",
    "<img src=\"../images/case3.png\",width= 900,height = 800>"
   ]
  },
  {
   "cell_type": "markdown",
   "metadata": {},
   "source": [
    "## Case 4: Large Data Set, Different Data\n",
    "\n",
    "If the new data set is large and different from the original training data:\n",
    "\n",
    "- remove the last fully connected layer and replace with a layer matching the number of classes in the new data set\n",
    "\n",
    "- retrain the network from scratch with randomly initialized weights\n",
    "\n",
    "- alternatively, you could just use the same strategy as the \"large and similar\" data case\n",
    "\n",
    "Even though the data set is different from the training data, initializing the weights from the pre-trained network might make training faster. So this case is exactly the same as the case with a large, similar data set.\n",
    "\n",
    "If using the pre-trained network as a starting point does not produce a successful model, another option is to randomly initialize the convolutional neural network weights and train the network from scratch.\n",
    "\n",
    "Here is how to visualize this approach:\n",
    "<img src=\"../images/case4.png\",width= 900,height = 800>"
   ]
  },
  {
   "cell_type": "code",
   "execution_count": null,
   "metadata": {
    "collapsed": true
   },
   "outputs": [],
   "source": []
  }
 ],
 "metadata": {
  "kernelspec": {
   "display_name": "Python 3",
   "language": "python",
   "name": "python3"
  },
  "language_info": {
   "codemirror_mode": {
    "name": "ipython",
    "version": 3
   },
   "file_extension": ".py",
   "mimetype": "text/x-python",
   "name": "python",
   "nbconvert_exporter": "python",
   "pygments_lexer": "ipython3",
   "version": "3.5.4"
  }
 },
 "nbformat": 4,
 "nbformat_minor": 2
}
