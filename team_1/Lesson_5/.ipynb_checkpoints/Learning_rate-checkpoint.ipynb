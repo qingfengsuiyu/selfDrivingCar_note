{
 "cells": [
  {
   "cell_type": "code",
   "execution_count": 1,
   "metadata": {
    "collapsed": true
   },
   "outputs": [],
   "source": [
    "\"\"\"\n",
    "Given the starting point of any `x` gradient descent\n",
    "should be able to find the minimum value of x for the\n",
    "cost function `f` defined below.\n",
    "\"\"\"\n",
    "import random"
   ]
  },
  {
   "cell_type": "code",
   "execution_count": 2,
   "metadata": {
    "collapsed": true
   },
   "outputs": [],
   "source": [
    "def gradient_descent_update(x,gradx,learning_rate):\n",
    "    \"\"\"\n",
    "    Performs a gradient descent update.\n",
    "    \"\"\"\n",
    "    # TODO: Implement gradient descent.\n",
    "    x = x - learning_rate*gradx\n",
    "    return x"
   ]
  },
  {
   "cell_type": "code",
   "execution_count": 3,
   "metadata": {
    "collapsed": true
   },
   "outputs": [],
   "source": [
    "def f(x):\n",
    "    \"\"\"\n",
    "    Quadratic function.\n",
    "\n",
    "    It's easy to see the minimum value of the function\n",
    "    is 5 when is x=0.\n",
    "    \"\"\"\n",
    "    return x**2 + 5"
   ]
  },
  {
   "cell_type": "code",
   "execution_count": 4,
   "metadata": {
    "collapsed": true
   },
   "outputs": [],
   "source": [
    "def df(x):\n",
    "    \"\"\"\n",
    "    Derivative of `f` with respect to `x`.\n",
    "    \"\"\"\n",
    "    return 2*x"
   ]
  },
  {
   "cell_type": "code",
   "execution_count": 7,
   "metadata": {},
   "outputs": [
    {
     "name": "stdout",
     "output_type": "stream",
     "text": [
      "EPOCH 0 :Cost: 21.000, x: 8.000\n",
      "EPOCH 1 :Cost: 20.366, x: 7.840\n",
      "EPOCH 2 :Cost: 19.758, x: 7.683\n",
      "EPOCH 3 :Cost: 19.173, x: 7.530\n",
      "EPOCH 4 :Cost: 18.612, x: 7.379\n",
      "EPOCH 5 :Cost: 18.073, x: 7.231\n",
      "EPOCH 6 :Cost: 17.555, x: 7.087\n",
      "EPOCH 7 :Cost: 17.058, x: 6.945\n",
      "EPOCH 8 :Cost: 16.581, x: 6.806\n",
      "EPOCH 9 :Cost: 16.122, x: 6.670\n",
      "EPOCH 10 :Cost: 15.682, x: 6.537\n",
      "EPOCH 11 :Cost: 15.259, x: 6.406\n",
      "EPOCH 12 :Cost: 14.852, x: 6.278\n",
      "EPOCH 13 :Cost: 14.462, x: 6.152\n",
      "EPOCH 14 :Cost: 14.088, x: 6.029\n",
      "EPOCH 15 :Cost: 13.728, x: 5.909\n",
      "EPOCH 16 :Cost: 13.382, x: 5.790\n",
      "EPOCH 17 :Cost: 13.050, x: 5.675\n",
      "EPOCH 18 :Cost: 12.731, x: 5.561\n",
      "EPOCH 19 :Cost: 12.425, x: 5.450\n",
      "EPOCH 20 :Cost: 12.131, x: 5.341\n",
      "EPOCH 21 :Cost: 11.849, x: 5.234\n",
      "EPOCH 22 :Cost: 11.578, x: 5.129\n",
      "EPOCH 23 :Cost: 11.317, x: 5.027\n",
      "EPOCH 24 :Cost: 11.067, x: 4.926\n",
      "EPOCH 25 :Cost: 10.827, x: 4.828\n",
      "EPOCH 26 :Cost: 10.596, x: 4.731\n",
      "EPOCH 27 :Cost: 10.374, x: 4.637\n",
      "EPOCH 28 :Cost: 10.162, x: 4.544\n",
      "EPOCH 29 :Cost: 9.957, x: 4.453\n",
      "EPOCH 30 :Cost: 9.761, x: 4.364\n",
      "EPOCH 31 :Cost: 9.572, x: 4.277\n",
      "EPOCH 32 :Cost: 9.391, x: 4.191\n",
      "EPOCH 33 :Cost: 9.217, x: 4.107\n",
      "EPOCH 34 :Cost: 9.050, x: 4.025\n",
      "EPOCH 35 :Cost: 8.890, x: 3.945\n",
      "EPOCH 36 :Cost: 8.736, x: 3.866\n",
      "EPOCH 37 :Cost: 8.588, x: 3.788\n",
      "EPOCH 38 :Cost: 8.446, x: 3.713\n",
      "EPOCH 39 :Cost: 8.309, x: 3.638\n",
      "EPOCH 40 :Cost: 8.178, x: 3.566\n",
      "EPOCH 41 :Cost: 8.053, x: 3.494\n",
      "EPOCH 42 :Cost: 7.932, x: 3.424\n",
      "EPOCH 43 :Cost: 7.816, x: 3.356\n",
      "EPOCH 44 :Cost: 7.704, x: 3.289\n",
      "EPOCH 45 :Cost: 7.597, x: 3.223\n",
      "EPOCH 46 :Cost: 7.494, x: 3.159\n",
      "EPOCH 47 :Cost: 7.395, x: 3.095\n",
      "EPOCH 48 :Cost: 7.301, x: 3.033\n",
      "EPOCH 49 :Cost: 7.209, x: 2.973\n",
      "EPOCH 50 :Cost: 7.122, x: 2.913\n",
      "EPOCH 51 :Cost: 7.038, x: 2.855\n",
      "EPOCH 52 :Cost: 6.957, x: 2.798\n",
      "EPOCH 53 :Cost: 6.880, x: 2.742\n",
      "EPOCH 54 :Cost: 6.805, x: 2.687\n",
      "EPOCH 55 :Cost: 6.734, x: 2.633\n",
      "EPOCH 56 :Cost: 6.665, x: 2.581\n",
      "EPOCH 57 :Cost: 6.599, x: 2.529\n",
      "EPOCH 58 :Cost: 6.536, x: 2.479\n",
      "EPOCH 59 :Cost: 6.475, x: 2.429\n",
      "EPOCH 60 :Cost: 6.417, x: 2.380\n",
      "EPOCH 61 :Cost: 6.361, x: 2.333\n",
      "EPOCH 62 :Cost: 6.307, x: 2.286\n",
      "EPOCH 63 :Cost: 6.255, x: 2.240\n",
      "EPOCH 64 :Cost: 6.205, x: 2.196\n",
      "EPOCH 65 :Cost: 6.157, x: 2.152\n",
      "EPOCH 66 :Cost: 6.112, x: 2.109\n",
      "EPOCH 67 :Cost: 6.068, x: 2.067\n",
      "EPOCH 68 :Cost: 6.025, x: 2.025\n",
      "EPOCH 69 :Cost: 5.985, x: 1.985\n",
      "EPOCH 70 :Cost: 5.946, x: 1.945\n",
      "EPOCH 71 :Cost: 5.908, x: 1.906\n",
      "EPOCH 72 :Cost: 5.872, x: 1.868\n",
      "EPOCH 73 :Cost: 5.838, x: 1.831\n",
      "EPOCH 74 :Cost: 5.805, x: 1.794\n",
      "EPOCH 75 :Cost: 5.773, x: 1.758\n",
      "EPOCH 76 :Cost: 5.742, x: 1.723\n",
      "EPOCH 77 :Cost: 5.713, x: 1.688\n",
      "EPOCH 78 :Cost: 5.685, x: 1.655\n",
      "EPOCH 79 :Cost: 5.657, x: 1.622\n",
      "EPOCH 80 :Cost: 5.631, x: 1.589\n",
      "EPOCH 81 :Cost: 5.606, x: 1.557\n",
      "EPOCH 82 :Cost: 5.582, x: 1.526\n",
      "EPOCH 83 :Cost: 5.559, x: 1.496\n",
      "EPOCH 84 :Cost: 5.537, x: 1.466\n",
      "EPOCH 85 :Cost: 5.516, x: 1.437\n",
      "EPOCH 86 :Cost: 5.495, x: 1.408\n",
      "EPOCH 87 :Cost: 5.476, x: 1.380\n",
      "EPOCH 88 :Cost: 5.457, x: 1.352\n",
      "EPOCH 89 :Cost: 5.439, x: 1.325\n",
      "EPOCH 90 :Cost: 5.422, x: 1.298\n",
      "EPOCH 91 :Cost: 5.405, x: 1.273\n",
      "EPOCH 92 :Cost: 5.389, x: 1.247\n",
      "EPOCH 93 :Cost: 5.373, x: 1.222\n",
      "EPOCH 94 :Cost: 5.359, x: 1.198\n",
      "EPOCH 95 :Cost: 5.344, x: 1.174\n",
      "EPOCH 96 :Cost: 5.331, x: 1.150\n",
      "EPOCH 97 :Cost: 5.318, x: 1.127\n",
      "EPOCH 98 :Cost: 5.305, x: 1.105\n",
      "EPOCH 99 :Cost: 5.293, x: 1.083\n",
      "EPOCH 100 :Cost: 5.281, x: 1.061\n"
     ]
    }
   ],
   "source": [
    "# Random number better 0 and 10,000. Feel free to set x whatever you like.\n",
    "x = random.randint(0,10000)\n",
    "# TODO: Set the learning rate\n",
    "learning_rate = 0.01\n",
    "epochs = 100\n",
    "\n",
    "for i in range(epochs+1):\n",
    "    cost = f(x)\n",
    "    gradx = df(x)\n",
    "    print(\"EPOCH {} :Cost: {:.3f}, x: {:.3f}\".format(i,cost,gradx))\n",
    "    x = gradient_descent_update(x,gradx,learning_rate)"
   ]
  },
  {
   "cell_type": "code",
   "execution_count": null,
   "metadata": {
    "collapsed": true
   },
   "outputs": [],
   "source": []
  }
 ],
 "metadata": {
  "kernelspec": {
   "display_name": "Python 3",
   "language": "python",
   "name": "python3"
  },
  "language_info": {
   "codemirror_mode": {
    "name": "ipython",
    "version": 3
   },
   "file_extension": ".py",
   "mimetype": "text/x-python",
   "name": "python",
   "nbconvert_exporter": "python",
   "pygments_lexer": "ipython3",
   "version": "3.5.4"
  }
 },
 "nbformat": 4,
 "nbformat_minor": 2
}
