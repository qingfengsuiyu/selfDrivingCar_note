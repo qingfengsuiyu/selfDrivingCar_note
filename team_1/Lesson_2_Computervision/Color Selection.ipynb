{
 "cells": [
  {
   "cell_type": "code",
   "execution_count": 1,
   "metadata": {
    "collapsed": true
   },
   "outputs": [],
   "source": [
    "import matplotlib.pyplot as plt\n",
    "import matplotlib.image as mpimg\n",
    "import numpy as np"
   ]
  },
  {
   "cell_type": "code",
   "execution_count": 4,
   "metadata": {},
   "outputs": [
    {
     "name": "stdout",
     "output_type": "stream",
     "text": [
      "This image is: <class 'numpy.ndarray'> with dimension: (540, 960, 3)\n"
     ]
    }
   ],
   "source": [
    "# I then read an image and print out some stats about x and y.\n",
    "\n",
    "image = mpimg.imread('../images/test.jpg')\n",
    "print('This image is:',type(image),'with dimension:',image.shape)"
   ]
  },
  {
   "cell_type": "code",
   "execution_count": 5,
   "metadata": {
    "collapsed": true
   },
   "outputs": [],
   "source": [
    "# Grab the x and y size and make a copy of the image\n",
    "ysize = image.shape[0]\n",
    "xsize = image.shape[1]\n",
    "\n",
    "# Note: always make a copy rather than simply using '='\n",
    "color_select = np.copy(image)"
   ]
  },
  {
   "cell_type": "code",
   "execution_count": 13,
   "metadata": {},
   "outputs": [],
   "source": [
    "# Next I define a color threshold(下限) in the variable red_threshold,green_threshold,blue_threshold\n",
    "# This vector contains the minimum values for red, green, and blue (R,G,B) that I will allow in my selection.\n",
    "\n",
    "# Define our color selection criteria(标准)\n",
    "# Note: if you run this code,you'll find these are not sensible values.\n",
    "# But you'll get a chance to play with them soon in a quiz.\n",
    "\n",
    "red_threshold = 200\n",
    "green_threshold = 200\n",
    "blue_threshold = 200\n",
    "rgb_threshold = [red_threshold,green_threshold,blue_threshold]"
   ]
  },
  {
   "cell_type": "code",
   "execution_count": 14,
   "metadata": {},
   "outputs": [
    {
     "data": {
      "image/png": "[encoded data removed]",
      "text/plain": [
       "<matplotlib.figure.Figure at 0x110c9a518>"
      ]
     },
     "metadata": {},
     "output_type": "display_data"
    }
   ],
   "source": [
    "# Next, I'll select any pixels below the threshold and set them to zero.\n",
    "\n",
    "# After that, all pixels that meet my color criterion (those above the threshold)\n",
    "# will be retained, and those that do not (below the threshold) will be blacked out.\n",
    "\n",
    "# 高于标准的会保留,低于标准的会被设为0(黑色)\n",
    "\n",
    "# Identify pixels below the threshold\n",
    "thresholds = (image[:,:,0] < rgb_threshold[0])\\\n",
    "            | (image[:,:,1] < rgb_threshold[1])\\\n",
    "            | (image[:,:,2] < rgb_threshold[2])\n",
    "color_select[thresholds] = [0,0,0]\n",
    "               \n",
    "# Display the image\n",
    "plt.imshow(color_select)\n",
    "plt.show()"
   ]
  },
  {
   "cell_type": "code",
   "execution_count": null,
   "metadata": {
    "collapsed": true
   },
   "outputs": [],
   "source": []
  }
 ],
 "metadata": {
  "kernelspec": {
   "display_name": "Python 3",
   "language": "python",
   "name": "python3"
  },
  "language_info": {
   "codemirror_mode": {
    "name": "ipython",
    "version": 3
   },
   "file_extension": ".py",
   "mimetype": "text/x-python",
   "name": "python",
   "nbconvert_exporter": "python",
   "pygments_lexer": "ipython3",
   "version": "3.5.4"
  }
 },
 "nbformat": 4,
 "nbformat_minor": 2
}
